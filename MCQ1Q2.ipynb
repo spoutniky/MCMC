{
 "cells": [
  {
   "cell_type": "markdown",
   "metadata": {},
   "source": [
    "# Prévalence de Listeria dans le lait cru"
   ]
  },
  {
   "cell_type": "markdown",
   "metadata": {},
   "source": [
    "On dispose d'une base de données csv comportant 2 colonnes et 91 lignes, chaque ligne représentant un pays. \n",
    "\n",
    "\n",
    "La colonne 1 indique le nombre de cas de listeria recensés dans ce pays.\n",
    "\n",
    "La colonne 2 indique le nombre d'échantillons testé dans ce pays."
   ]
  },
  {
   "cell_type": "code",
   "execution_count": 1,
   "metadata": {},
   "outputs": [],
   "source": [
    "import pandas\n",
    "import numpy as np\n",
    "import matplotlib.pyplot as plt\n",
    "import matplotlib.axes as axes\n",
    "from math import factorial\n",
    "from statsmodels.graphics.tsaplots import plot_acf\n",
    "import seaborn as sns\n",
    "\n",
    "from tqdm import tqdm"
   ]
  },
  {
   "cell_type": "code",
   "execution_count": 2,
   "metadata": {},
   "outputs": [],
   "source": [
    "## importation des données\n",
    "data_frame = pandas.read_csv(r\"listeria.csv\", header=None)\n",
    "data = data_frame.values\n",
    "N_data = data.shape[0]"
   ]
  },
  {
   "cell_type": "code",
   "execution_count": 104,
   "metadata": {},
   "outputs": [
    {
     "data": {
      "text/plain": [
       "Text(0, 0.5, 'nombre de pays')"
      ]
     },
     "execution_count": 104,
     "metadata": {},
     "output_type": "execute_result"
    },
    {
     "data": {
      "image/png": "[encoded data removed]",
      "text/plain": [
       "<Figure size 432x288 with 1 Axes>"
      ]
     },
     "metadata": {
      "needs_background": "light"
     },
     "output_type": "display_data"
    }
   ],
   "source": [
    "## Répartition des probabilité de positivité dans l'échantillon\n",
    "proba_positif = [r/n for (r,n) in data]\n",
    "proba_positif_corrige = [a for a in proba_positif if a!=0]\n",
    "plt.hist(proba_positif, bins=20, log=False)\n",
    "plt.xlabel(\"taux de prévalence de la listeria\")\n",
    "plt.ylabel(\"nombre de pays\")"
   ]
  },
  {
   "cell_type": "markdown",
   "metadata": {},
   "source": [
    "Quelques fonctions utiles :"
   ]
  },
  {
   "cell_type": "code",
   "execution_count": 4,
   "metadata": {},
   "outputs": [],
   "source": [
    "# liste des logarithmes des coefficients binomiaux utilisés \n",
    "# dans le calcul de la logvraisemblance (Q1): \n",
    "\n",
    "def log_fact(n) :\n",
    "    res = 0\n",
    "    for i in range(int(n)) :\n",
    "        res+= np.log(i+1)\n",
    "    return res\n",
    "\n",
    "def log_binomial(n, r):\n",
    "    return log_fact(n) - log_fact(r) - log_fact(n-r)\n",
    "\n",
    "list_log_bin = [log_binomial(data[i][1],data[i][0]) for i in range(N_data)]"
   ]
  },
  {
   "cell_type": "code",
   "execution_count": 5,
   "metadata": {},
   "outputs": [],
   "source": [
    "## loi Beta : donne le logarithme de la fonction densité d'une loi beta, \n",
    "## de paramètres alpha et beta, à une constante près\n",
    "\n",
    "def log_beta(x,alpha,beta) :\n",
    "    res = 0\n",
    "    if alpha >= 1 :\n",
    "        res += (alpha-1)*np.log(x)\n",
    "    if beta >= 1 :\n",
    "        res += (beta-1)*np.log(1-x)\n",
    "    return res"
   ]
  },
  {
   "cell_type": "markdown",
   "metadata": {},
   "source": [
    "## Question 1"
   ]
  },
  {
   "cell_type": "markdown",
   "metadata": {},
   "source": [
    "On suppose dans cette partie que le nombre d'échatillons testés positifs dans un pays suit une loi $r_i \\sim B(n_i,p) $ où $n_i$ est le nombre total d'échantillon testés et le paramètre $p$, **identique pour tous les pays** suit une loi $p \\sim Beta(\\alpha,\\beta)$ avec $\\alpha = \\beta = 1$.\n",
    "\n",
    "Nous cherchons à déterminer la loi de $p$ à postériori"
   ]
  },
  {
   "cell_type": "code",
   "execution_count": 108,
   "metadata": {},
   "outputs": [],
   "source": [
    "Alpha = 1\n",
    "Beta = 1"
   ]
  },
  {
   "cell_type": "code",
   "execution_count": 109,
   "metadata": {},
   "outputs": [],
   "source": [
    "## vraisemblance\n",
    "def log_likelihood(p) :\n",
    "    res = 0\n",
    "    for i in range(N_data) :\n",
    "        r,n = data[i] \n",
    "        res += list_log_bin[i] + r*np.log(p) + (n-r)*np.log(1-p)\n",
    "    return res"
   ]
  },
  {
   "cell_type": "code",
   "execution_count": 110,
   "metadata": {},
   "outputs": [],
   "source": [
    "## calcul de la loi de p a posteriori\n",
    "def log_loi_posteriori(p) :\n",
    "    return log_likelihood(p) + log_beta(p,Alpha,Beta)"
   ]
  },
  {
   "cell_type": "markdown",
   "metadata": {},
   "source": [
    "### représentation du logarithme de la loi a posteriori\n",
    "$\\pi_{N}  \\propto \\mathcal{B}eta(91\\bar{r}+1, 91(\\bar{n}-\\bar{r})+ 1)$"
   ]
  },
  {
   "cell_type": "code",
   "execution_count": 111,
   "metadata": {},
   "outputs": [
    {
     "data": {
      "image/png": "[encoded data removed]",
      "text/plain": [
       "<Figure size 432x288 with 1 Axes>"
      ]
     },
     "metadata": {
      "needs_background": "light"
     },
     "output_type": "display_data"
    }
   ],
   "source": [
    "## représentation\n",
    "n_pts = 100\n",
    "X = np.linspace(1/n_pts,1,n_pts,endpoint=False)\n",
    "Y = log_loi_posteriori(X)\n",
    "plt.plot(X,Y)\n",
    "#plt.axes(ylim = (-0.01,0.01))\n",
    "plt.show()"
   ]
  },
  {
   "cell_type": "markdown",
   "metadata": {},
   "source": [
    "représentation du logartihme d'une loi Beta de paramètres $(91\\bar{r}+1; 91(\\bar{n}-\\bar{r})+ 1)$ "
   ]
  },
  {
   "cell_type": "code",
   "execution_count": 112,
   "metadata": {},
   "outputs": [
    {
     "data": {
      "image/png": "[encoded data removed]",
      "text/plain": [
       "<Figure size 432x288 with 1 Axes>"
      ]
     },
     "metadata": {
      "needs_background": "light"
     },
     "output_type": "display_data"
    }
   ],
   "source": [
    "r_bar = np.mean(data[:,[0]])\n",
    "n_bar = np.mean(data[:,[1]])\n",
    "Z = log_beta(X,N_data*r_bar+1,N_data*(n_bar-r_bar)+1)\n",
    "plt.plot(X,Z)\n",
    "plt.show()"
   ]
  },
  {
   "cell_type": "markdown",
   "metadata": {},
   "source": [
    "#### Comparaison probabilités simulées et probabilités estimées"
   ]
  },
  {
   "cell_type": "code",
   "execution_count": 114,
   "metadata": {},
   "outputs": [],
   "source": [
    "sample = np.random.beta(N_data*r_bar+1,N_data*(n_bar-r_bar)+1, size=N_data)"
   ]
  },
  {
   "cell_type": "code",
   "execution_count": 121,
   "metadata": {},
   "outputs": [
    {
     "data": {
      "text/plain": [
       "<matplotlib.axes._subplots.AxesSubplot at 0x7f911cb6c940>"
      ]
     },
     "execution_count": 121,
     "metadata": {},
     "output_type": "execute_result"
    },
    {
     "data": {
      "image/png": "[encoded data removed]",
      "text/plain": [
       "<Figure size 432x288 with 1 Axes>"
      ]
     },
     "metadata": {
      "needs_background": "light"
     },
     "output_type": "display_data"
    }
   ],
   "source": [
    "plt.title('histogramme des probabilités simulées par la loi a posteriori')\n",
    "sns.distplot(sample, color=\"red\", kde=True)"
   ]
  },
  {
   "cell_type": "code",
   "execution_count": 122,
   "metadata": {},
   "outputs": [
    {
     "data": {
      "text/plain": [
       "<matplotlib.axes._subplots.AxesSubplot at 0x7f911cc929a0>"
      ]
     },
     "execution_count": 122,
     "metadata": {},
     "output_type": "execute_result"
    },
    {
     "data": {
      "image/png": "[encoded data removed]",
      "text/plain": [
       "<Figure size 432x288 with 1 Axes>"
      ]
     },
     "metadata": {
      "needs_background": "light"
     },
     "output_type": "display_data"
    }
   ],
   "source": [
    "plt.title('histogramme des probabilités empiriques corrigées')\n",
    "sns.distplot(proba_positif_corrige, color=\"green\", kde=True)"
   ]
  },
  {
   "cell_type": "markdown",
   "metadata": {},
   "source": [
    "## Question 2"
   ]
  },
  {
   "cell_type": "markdown",
   "metadata": {},
   "source": [
    "On suppose dans cette partie que le nombre d'échatillons testés positifs dans un pays suit une loi $r_i \\sim B(n_i,p_i) $ où le paramètre $p_i$, **est propre à chaque pays et** suit une loi $p_i \\sim Beta(\\alpha,\\beta)$ \n",
    "\n",
    "On pose $\\mu = \\frac{\\alpha}{\\alpha+\\beta}$ et $\\kappa = \\alpha + \\beta$\n",
    "\n",
    "On suppose à priori $\\mu \\sim U([0,1])$ et $\\kappa \\sim Exp(0.1)$\n",
    "\n",
    "Nous cherchons à simuler la loi de $p, \\mu$ et $\\kappa$ à posteriori"
   ]
  },
  {
   "cell_type": "markdown",
   "metadata": {},
   "source": [
    "#### Loi a posteriori de l'un des $p_i$ sachant $\\mu$, $\\kappa$ et les données :\n",
    "\n",
    "$ \\pi_{p_j | \\kappa, \\mu, p_{-j}} \\propto \\big( p_j^{r_j - 1 + \\kappa\\mu}(1-p_j)^{n_j - r_j -1 + \\kappa(1-\\mu)} \\big) 1(p_j \\in [0,1])$\n",
    "\n",
    "On observe que $p_i$ est indépendant de $p_{-i}$ et :\n",
    "\n",
    "$p_{i}| \\mu,\\kappa \\sim B(r_{i}+\\mu\\kappa , n_{i}+\\kappa(1-\\mu)-r_{i}) $"
   ]
  },
  {
   "cell_type": "code",
   "execution_count": 10,
   "metadata": {},
   "outputs": [],
   "source": [
    "def Step_pi(i,mu,kappa) :\n",
    "    r,n = data[i]\n",
    "    return np.random.beta(r + mu*kappa, n - r + kappa*(1-mu))"
   ]
  },
  {
   "cell_type": "markdown",
   "metadata": {},
   "source": [
    "#### Loi a posteriori de $\\mu$ sachant $\\kappa$, le vecteur des $p_i$ et les données :\n",
    "\n",
    "$\\pi_{\\mu | \\kappa, p} \\propto \\prod_i p_i^{\\kappa\\mu}(1-p_i)^{\\kappa(1-\\mu)} 1(\\mu \\in [0,1])$"
   ]
  },
  {
   "cell_type": "code",
   "execution_count": 11,
   "metadata": {},
   "outputs": [],
   "source": [
    "def log_loi_mu(vect_p, mu, kappa) :\n",
    "    res = 0\n",
    "    accept = True\n",
    "    \n",
    "    if mu<=0 or mu>=1 :\n",
    "        accept = False\n",
    "    else :\n",
    "        for i in range(N_data) :\n",
    "            p = vect_p[i]\n",
    "            if p < 10**(-15) :\n",
    "                res += -15*kappa*mu\n",
    "            else :\n",
    "                res += kappa*mu*(np.log(p) - np.log(1-p))\n",
    "            \n",
    "    return (accept, res)"
   ]
  },
  {
   "cell_type": "code",
   "execution_count": 12,
   "metadata": {},
   "outputs": [],
   "source": [
    "def Metropolis_step_mu(vect_p, mu, kappa) :\n",
    "\n",
    "    local_mu = mu\n",
    "    # simulation d'un nouveau mu à partir du premier\n",
    "    mu_new = np.random.normal(mu, 0.2)\n",
    "    \n",
    "    Loi = log_loi_mu(vect_p, mu_new, kappa)\n",
    "    if Loi[0] :\n",
    "        \n",
    "        log_taux_acceptation = Loi[1] - log_loi_mu(vect_p, mu, kappa)[1]\n",
    "    \n",
    "        if np.log(np.random.random()) <= log_taux_acceptation:\n",
    "            #print(\"mu accept\")\n",
    "            local_mu = mu_new\n",
    "            \n",
    "    return local_mu"
   ]
  },
  {
   "cell_type": "markdown",
   "metadata": {},
   "source": [
    "#### Loi a posteriori de $\\kappa$ sachant $\\mu$, le vecteur des $p_i$ et les données :\n",
    "\n",
    "$\\pi_{\\kappa | \\mu, p} \\propto \\big( \\prod_i p_i^{\\kappa\\mu}(1-p_i)^{\\kappa(1-\\mu)} \\big) \\exp(-0.1\\kappa)1(p_j \\geq 0)$"
   ]
  },
  {
   "cell_type": "code",
   "execution_count": 13,
   "metadata": {},
   "outputs": [],
   "source": [
    "def log_loi_kappa(vect_p, mu, kappa) :\n",
    "    res = 0\n",
    "    accept = True\n",
    "    \n",
    "    if kappa<=0 :\n",
    "        accept = False\n",
    "    else :\n",
    "        for i in range(N_data) :\n",
    "            p = vect_p[i]\n",
    "            if p<10**(-15) :\n",
    "                res += -15*kappa*mu\n",
    "            else :\n",
    "                res += kappa*mu*np.log(p) + kappa*(1-mu)*np.log(1-p)\n",
    "        res -= 0.1*kappa\n",
    "        \n",
    "    return (accept, res)"
   ]
  },
  {
   "cell_type": "code",
   "execution_count": 14,
   "metadata": {},
   "outputs": [],
   "source": [
    "def Metropolis_step_kappa(vect_p, mu, kappa) :\n",
    "\n",
    "    # simulation d'un nouveau kappa à partir du premier\n",
    "    kappa_new = np.random.normal(kappa, 0.3)\n",
    "    \n",
    "    Loi = log_loi_kappa(vect_p, mu, kappa_new)\n",
    "    if Loi[0] :\n",
    "        \n",
    "        log_taux_acceptation = Loi[1] - log_loi_kappa(vect_p, mu, kappa)[1]\n",
    "    \n",
    "        if np.log(np.random.random()) <= log_taux_acceptation:\n",
    "            #print(\"kappa accept\")\n",
    "            kappa = kappa_new\n",
    "    \n",
    "    return kappa"
   ]
  },
  {
   "cell_type": "markdown",
   "metadata": {},
   "source": [
    "### Simulation avec Metropolis within Gibbs"
   ]
  },
  {
   "cell_type": "code",
   "execution_count": 15,
   "metadata": {},
   "outputs": [],
   "source": [
    "def Metropolis_Gibbs(mu,kappa) :\n",
    "    \n",
    "    vect_p = np.zeros(N_data)\n",
    "    for i in range(N_data) :\n",
    "        vect_p[i] = Step_pi(i,mu,kappa)\n",
    "    \n",
    "    mu = Metropolis_step_mu(vect_p, mu, kappa)\n",
    "    kappa = Metropolis_step_kappa(vect_p, mu, kappa)\n",
    "    \n",
    "    return (vect_p,mu,kappa)"
   ]
  },
  {
   "cell_type": "markdown",
   "metadata": {},
   "source": [
    "La fonction simulation renvoie une réalisation de la simulation avec l'algorithme Metropolis-Gibbs. \n",
    "\n",
    "La variable *n_pts* est le nombre de pas de simulation \n",
    "\n",
    "La variable *lap* est le nombre de pas entre deux réalisation non corrélées\n",
    "\n",
    "L'algorithme renvoie toutes les valeurs simulées multiples de *laps*"
   ]
  },
  {
   "cell_type": "code",
   "execution_count": 16,
   "metadata": {},
   "outputs": [],
   "source": [
    "def simulation(n_pts, laps, mu = 0.5, kappa = 0.1) :\n",
    "\n",
    "    liste_p = []\n",
    "    liste_mu = []\n",
    "    liste_kappa = []\n",
    "    \n",
    "    sim_mu = mu\n",
    "    sim_kappa = kappa\n",
    "\n",
    "    compte = 0\n",
    "\n",
    "    for i in range(n_pts*laps) :\n",
    "    \n",
    "        sim_p, sim_mu, sim_kappa = Metropolis_Gibbs(sim_mu, sim_kappa)\n",
    "    \n",
    "        if compte%laps == laps-1 :\n",
    "            liste_p.append(sim_p)\n",
    "            liste_mu.append(sim_mu)\n",
    "            liste_kappa.append(sim_kappa)\n",
    "        compte+=1\n",
    "    \n",
    "    return (np.array(liste_p), np.array(liste_mu), np.array(liste_kappa))"
   ]
  },
  {
   "cell_type": "code",
   "execution_count": 17,
   "metadata": {},
   "outputs": [],
   "source": [
    "def estimation(n_pts, laps, mu=0.5, kappa = 0.1) :\n",
    "    arr_p, arr_mu, arr_kappa = simulation(n_pts, laps, mu=0.5, kappa = 0.1)\n",
    "    \n",
    "    P = np.zeros(N_data)\n",
    "    mu = 0\n",
    "    kappa = 0\n",
    "    \n",
    "    for i in range(n_pts) :\n",
    "        for j in range(N_data) :\n",
    "            P[j] += arr_p[i][j]/n_pts\n",
    "        mu += arr_mu[i]/n_pts\n",
    "        kappa += arr_kappa[i]/n_pts\n",
    "    \n",
    "    return (P,mu,kappa)"
   ]
  },
  {
   "cell_type": "markdown",
   "metadata": {},
   "source": [
    "### Etude des correlations et trace"
   ]
  },
  {
   "cell_type": "markdown",
   "metadata": {},
   "source": [
    "#### Trace"
   ]
  },
  {
   "cell_type": "code",
   "execution_count": 94,
   "metadata": {},
   "outputs": [],
   "source": [
    "n_pts = 2000\n",
    "laps = 1"
   ]
  },
  {
   "cell_type": "code",
   "execution_count": 95,
   "metadata": {},
   "outputs": [],
   "source": [
    "arr_p, arr_mu, arr_kappa = simulation(n_pts, laps, mu=0.5, kappa=2)"
   ]
  },
  {
   "cell_type": "code",
   "execution_count": 97,
   "metadata": {},
   "outputs": [
    {
     "data": {
      "text/plain": [
       "Text(0.5, 1.0, 'simultation de p59 avec le modèle 2')"
      ]
     },
     "execution_count": 97,
     "metadata": {},
     "output_type": "execute_result"
    },
    {
     "data": {
      "image/png": "[encoded data removed]",
      "text/plain": [
       "<Figure size 432x288 with 1 Axes>"
      ]
     },
     "metadata": {
      "needs_background": "light"
     },
     "output_type": "display_data"
    }
   ],
   "source": [
    "# trace de pj\n",
    "j = 59\n",
    "\n",
    "plt.plot(arr_p[::10,[j]], color = 'black', linewidth=1, label='simulation')\n",
    "plt.plot([np.mean(arr_p[:,[j]])]*int(n_pts/10),'b-', linewidth=2, label = 'estimation')\n",
    "plt.plot([data[j,0]/data[j,1]]*int(n_pts/10),'r--', linewidth=2, label = 'r/n')\n",
    "plt.legend()\n",
    "plt.title(\"simultation de p\"+str(j) + \" avec le modèle 2\")"
   ]
  },
  {
   "cell_type": "code",
   "execution_count": 74,
   "metadata": {},
   "outputs": [
    {
     "data": {
      "image/png": "[encoded data removed]",
      "text/plain": [
       "<Figure size 432x288 with 2 Axes>"
      ]
     },
     "metadata": {
      "needs_background": "light"
     },
     "output_type": "display_data"
    }
   ],
   "source": [
    "# traces de kappa et mu\n",
    "fig, ax1 = plt.subplots()\n",
    "\n",
    "ax1.plot(arr_mu[0:100], 'b-')\n",
    "ax1.set_ylabel('mu', color='b')\n",
    "for tl in ax1.get_yticklabels():\n",
    "    tl.set_color('b')\n",
    "\n",
    "ax2 = ax1.twinx()\n",
    "ax2.plot(arr_kappa[0:100], 'r-')\n",
    "ax2.set_ylabel('kappa', color='r')\n",
    "for tl in ax2.get_yticklabels():\n",
    "    tl.set_color('r')\n",
    "plt.savefig('ShareAxes.png')\n",
    "plt.show()"
   ]
  },
  {
   "cell_type": "markdown",
   "metadata": {},
   "source": [
    "On peut noter qu'à la question 1 on suppose $\\mu = 0.5$ et $\\kappa = 2$"
   ]
  },
  {
   "cell_type": "markdown",
   "metadata": {},
   "source": [
    "#### Autocorrélations"
   ]
  },
  {
   "cell_type": "code",
   "execution_count": 79,
   "metadata": {},
   "outputs": [
    {
     "data": {
      "text/plain": [
       "Text(0.5, 1.0, 'autocorrelation des simulations de mu')"
      ]
     },
     "execution_count": 79,
     "metadata": {},
     "output_type": "execute_result"
    },
    {
     "data": {
      "image/png": "[encoded data removed]",
      "text/plain": [
       "<Figure size 432x288 with 1 Axes>"
      ]
     },
     "metadata": {
      "needs_background": "light"
     },
     "output_type": "display_data"
    }
   ],
   "source": [
    "plot_acf(arr_mu, lags=50)\n",
    "plt.title(\"autocorrelation des simulations de mu\")"
   ]
  },
  {
   "cell_type": "code",
   "execution_count": 80,
   "metadata": {
    "scrolled": true
   },
   "outputs": [
    {
     "data": {
      "text/plain": [
       "Text(0.5, 1.0, 'autocorrelation des simulations de kappa')"
      ]
     },
     "execution_count": 80,
     "metadata": {},
     "output_type": "execute_result"
    },
    {
     "data": {
      "image/png": "[encoded data removed]",
      "text/plain": [
       "<Figure size 432x288 with 1 Axes>"
      ]
     },
     "metadata": {
      "needs_background": "light"
     },
     "output_type": "display_data"
    }
   ],
   "source": [
    "plot_acf(arr_kappa, lags=50)\n",
    "plt.title(\"autocorrelation des simulations de kappa\")"
   ]
  },
  {
   "cell_type": "markdown",
   "metadata": {},
   "source": [
    "--> On choisit la variable *laps* égale à 30"
   ]
  },
  {
   "cell_type": "markdown",
   "metadata": {},
   "source": [
    "### Estimation"
   ]
  },
  {
   "cell_type": "code",
   "execution_count": 106,
   "metadata": {},
   "outputs": [
    {
     "data": {
      "text/plain": [
       "<matplotlib.legend.Legend at 0x7f911c27c040>"
      ]
     },
     "execution_count": 106,
     "metadata": {},
     "output_type": "execute_result"
    },
    {
     "data": {
      "image/png": "[encoded data removed]",
      "text/plain": [
       "<Figure size 432x288 with 1 Axes>"
      ]
     },
     "metadata": {
      "needs_background": "light"
     },
     "output_type": "display_data"
    }
   ],
   "source": [
    "P, mu, kappa = estimation(n_pts, laps, mu=0.5, kappa = 0.1)\n",
    "\n",
    "plt.title('Comparaison loi a posteriori et probabilités empiriques corrigées')\n",
    "sns.distplot(P, color=\"red\", kde=True)\n",
    "sns.distplot(proba_positif_corrige, color=\"green\", kde=True)\n",
    "plt.legend(['avec la loi a posteriori', 'avec les proba empiriques corrigées'])"
   ]
  },
  {
   "cell_type": "markdown",
   "metadata": {},
   "source": [
    "### Erreur Monte Carlo"
   ]
  },
  {
   "cell_type": "markdown",
   "metadata": {},
   "source": [
    "L'erreur de Monte Carlo se calcule en effectuant un grand nombre de simulation et en calculant l'écart-type de la distribution des estimations"
   ]
  },
  {
   "cell_type": "code",
   "execution_count": 41,
   "metadata": {},
   "outputs": [
    {
     "name": "stderr",
     "output_type": "stream",
     "text": [
      "100%|██████████| 20/20 [00:46<00:00,  2.33s/it]\n"
     ]
    }
   ],
   "source": [
    "N_estim = 20  # Nombre d'estimateurs simulés pour le calcul de l'erreur\n",
    "n_pts = 20    # Nombre de simulations Monte Carlo pour le calcul de chaque estimateur\n",
    "laps = 30     # Nombre d'étapes de Metropolis-within-Gibbs entre deux points de simulation\n",
    "              # --> au total on applique N_estim*n_pts*laps fois la fonction Metropolis_Gibbs()\n",
    "\n",
    "arr_p, arr_mu, arr_kappa = np.zeros((N_estim,N_data)), np.zeros(N_estim), np.zeros(N_estim)\n",
    "\n",
    "for i in tqdm(range(N_estim)) :\n",
    "    arr_p[i], arr_mu[i], arr_kappa[i] = estimation(n_pts, laps, mu=0.5, kappa=2)\n",
    "erreur_p = [np.sqrt(np.var(arr_p[:,[i]])) for i in range(N_data)]\n",
    "erreur_mu = np.sqrt(np.var(arr_mu))\n",
    "erreur_kappa = np.sqrt(np.var(arr_kappa))"
   ]
  },
  {
   "cell_type": "code",
   "execution_count": 45,
   "metadata": {},
   "outputs": [
    {
     "name": "stdout",
     "output_type": "stream",
     "text": [
      "valeur de mu : 0.21636788772288998\n",
      "erreur sur mu : 0.06241001435180768\n",
      "valeur de kappa : 0.038010369505207316\n",
      "erreur sur kappa : 0.017849171955414606\n"
     ]
    },
    {
     "data": {
      "image/png": "[encoded data removed]",
      "text/plain": [
       "<Figure size 432x288 with 1 Axes>"
      ]
     },
     "metadata": {
      "needs_background": "light"
     },
     "output_type": "display_data"
    }
   ],
   "source": [
    "plt.plot(erreur_p)\n",
    "print(\"valeur de mu : \" + str(np.mean(arr_mu)) )\n",
    "print(\"erreur sur mu : \" + str(erreur_mu) )\n",
    "print(\"valeur de kappa : \" + str(np.mean(arr_kappa)) )\n",
    "print(\"erreur sur kappa : \" + str(erreur_kappa) )"
   ]
  },
  {
   "cell_type": "markdown",
   "metadata": {},
   "source": [
    "## Question 3"
   ]
  },
  {
   "cell_type": "markdown",
   "metadata": {},
   "source": [
    "<span style=\"color:red\"> **LE CODE POUR CETTE SECTION N'EST PAS VALABLE** </span>\n",
    "\n",
    "<span style=\"color:red\"> voir le deuxième notebook </span>"
   ]
  },
  {
   "cell_type": "markdown",
   "metadata": {},
   "source": [
    "Nous considérons un nouveau modèle : à présent les $p_i$ suivent un mélange de deux lois Beta, l'une de paramètres $(\\alpha0, \\beta0)$ l'autre de paramètres $(\\alpha1, \\beta1)$. On suppose que les $p_i$ suivent la loi 0 avec probabilité $q$ et la loi 1 avec probabilité $1-q$, $q$ étant fixé. \n",
    "\n",
    "Pour réaliser notre algorithme de Gibbs, nous associons à chaque pays une variable latente $z_i$ indiquant la loi suivie par $p_i$. $z_i$ suit à priori une loi de Bernouilli de paramètre $q$.\n",
    "\n",
    "Les loi à posteriori de mu et kappa doivent tout d'abord être redéfinies pour tenir compte de la variable $z_i$\n",
    "La loi a posteriori de $z_i$ doit être déterminée"
   ]
  },
  {
   "cell_type": "markdown",
   "metadata": {},
   "source": [
    "#### Loi a posteriori de l'un des $p_i$ sachant $\\mu$, $\\kappa$, $z_i$ et les données :\n",
    "\n",
    "En supposant un mélange de deux lois beta, on a :\n",
    "\n",
    "$p_{i}| z_i,\\mu,\\kappa \\sim Beta(r_{i}+\\mu_{z_i}\\kappa_{z_i} , n_{i}+\\kappa_{z_i}(1-\\mu_{z_i})-r_{i}) $"
   ]
  },
  {
   "cell_type": "code",
   "execution_count": 81,
   "metadata": {},
   "outputs": [],
   "source": [
    "def Step_pi_mix(i,vect_z,mu,kappa) :\n",
    "    r,n = data[i]\n",
    "    z = vect_z[i]\n",
    "    return np.random.beta(r + mu[z]*kappa[z], n - r + kappa[z]*(1-mu[z]))"
   ]
  },
  {
   "cell_type": "markdown",
   "metadata": {},
   "source": [
    "#### Loi a posteriori de $\\mu$ sachant $\\kappa$, les vecteurs des $p_i$ et des $z_i$ et les données :\n",
    "\n",
    "$\\pi_{\\mu | \\kappa, p, z} \\propto \\prod_i \\big( \\frac{p_i}{1-p_i} \\big) ^{\\kappa_0\\mu_0(1-z_i) + \\kappa_1\\mu_1 z_i} $"
   ]
  },
  {
   "cell_type": "code",
   "execution_count": 82,
   "metadata": {},
   "outputs": [],
   "source": [
    "def log_loi_mu_mix(vect_p, vect_z, mu, kappa) :\n",
    "    res = [0,0]\n",
    "    accept = [True,True]\n",
    "    \n",
    "    if mu[0]<=0 or mu[0]>=1 :\n",
    "        accept[0] = False\n",
    "        \n",
    "    if mu[1]<=0 or mu[1]>=1 :\n",
    "        accept[1] = False\n",
    "        \n",
    "    for i in range(N_data) :\n",
    "        p = vect_p[i]\n",
    "        if p < 10**(-15) :\n",
    "            res[vect_z[i]] += -15*kappa[vect_z[i]]*mu[vect_z[i]]\n",
    "        else :\n",
    "            res[vect_z[i]] += kappa[vect_z[i]]*mu[vect_z[i]]*(np.log(p) - np.log(1-p))\n",
    "            \n",
    "    return [accept, res]"
   ]
  },
  {
   "cell_type": "code",
   "execution_count": 83,
   "metadata": {},
   "outputs": [],
   "source": [
    "def Metropolis_step_mu_mix(vect_p, vect_z, mu, kappa) :\n",
    "\n",
    "    local_mu = mu\n",
    "    # simulation d'un nouveau mu à partir du premier\n",
    "    mu_new = [np.random.normal(mu[0], 0.01), np.random.normal(mu[1], 0.01)]\n",
    "    \n",
    "    Loi = log_loi_mu_mix(vect_p, vect_z, mu_new, kappa)\n",
    "    Loi_old = log_loi_mu_mix(vect_p, vect_z, mu, kappa)\n",
    "    \n",
    "    if Loi[0][0] :\n",
    "        log_taux_acceptation0 = Loi[1][0] - Loi_old[1][0]\n",
    "        \n",
    "        if np.log(np.random.random()) <= log_taux_acceptation0:\n",
    "            #print(\"mu accept\")\n",
    "            local_mu[0] = mu_new[0]\n",
    "            \n",
    "    if Loi[0][1] : \n",
    "        log_taux_acceptation1 = Loi[1][1] - Loi_old[1][1]\n",
    "           \n",
    "        if np.log(np.random.random()) <= log_taux_acceptation1:\n",
    "            #print(\"mu accept\")\n",
    "            local_mu[1] = mu_new[1]\n",
    "            \n",
    "    return local_mu"
   ]
  },
  {
   "cell_type": "markdown",
   "metadata": {},
   "source": [
    "#### Loi a posteriori de $\\kappa$ sachant $\\mu$, les vecteurs des $p_i$, $z_i$ et les données :\n",
    "\n",
    "$\\pi_{\\kappa | \\mu, p, z} \\propto \\big( \\prod_i \n",
    "    p_i^{\\kappa_0\\mu_0(1-z_i) + \\kappa_1\\mu_1 z_i}\n",
    "    (1-p_i)^{\\kappa_0(1-\\mu_0)(1-z_i) + \\kappa_1(1-\\mu_1)z_i} \n",
    "    \\exp^{-0.1(\\kappa_0(1-z_i) + \\kappa_1z_i)}\\big) $"
   ]
  },
  {
   "cell_type": "code",
   "execution_count": 84,
   "metadata": {},
   "outputs": [],
   "source": [
    "def log_loi_kappa_mix(vect_p, vect_z, mu, kappa) :\n",
    "    res = [0,0]\n",
    "    accept = [True, True]\n",
    "    \n",
    "    if kappa[0]<=0 :\n",
    "        accept[0] = False\n",
    "        \n",
    "    if kappa[1]<=0 :\n",
    "        accept[1] = False\n",
    "        \n",
    "    for i in range(N_data) :\n",
    "        p = vect_p[i]\n",
    "        if p<10**(-15) :\n",
    "            res[vect_z[i]] += -15*kappa[vect_z[i]]*mu[vect_z[i]]\n",
    "        else :\n",
    "            res[vect_z[i]] += kappa[vect_z[i]]*mu[vect_z[i]]*np.log(p) + kappa[vect_z[i]]*(1-mu[vect_z[i]])*np.log(1-p)\n",
    "        res[vect_z[i]] -= 0.1*kappa[vect_z[i]]/N_data\n",
    "        \n",
    "    return (accept, res)"
   ]
  },
  {
   "cell_type": "code",
   "execution_count": 85,
   "metadata": {},
   "outputs": [],
   "source": [
    "def Metropolis_step_kappa_mix(vect_p, vect_z, mu, kappa) :\n",
    "\n",
    "    local_kappa = kappa\n",
    "    # simulation d'un nouveau kappa à partir du premier\n",
    "    kappa_new = [np.random.normal(kappa[0], 0.05), np.random.normal(kappa[1], 0.05)]\n",
    "    \n",
    "    Loi = log_loi_kappa_mix(vect_p, vect_z, mu, kappa_new)\n",
    "    Loi_old = log_loi_kappa_mix(vect_p, vect_z, mu, kappa)\n",
    "        \n",
    "    if Loi[0][0] :\n",
    "        log_taux_acceptation0 = Loi[1][0] - Loi_old[1][0]\n",
    "            \n",
    "        if np.log(np.random.random()) <= log_taux_acceptation0:\n",
    "            #print(\"kappa accept\")\n",
    "            local_kappa[0] = kappa_new[0]\n",
    "            \n",
    "    if Loi[0][1] :\n",
    "        log_taux_acceptation1 = Loi[1][1] - Loi_old[1][1]\n",
    "            \n",
    "        if np.log(np.random.random()) <= log_taux_acceptation1:\n",
    "            #print(\"kappa accept\")\n",
    "            local_kappa[1] = kappa_new[1]\n",
    "    \n",
    "    return local_kappa"
   ]
  },
  {
   "cell_type": "markdown",
   "metadata": {},
   "source": [
    "#### Loi a posteriori de $z_i$ sachant $\\mu$, $\\kappa$, le vecteur des $p_i$ et les données :\n",
    "\n",
    "$P(z_i = x | \\mu, \\kappa, p) \\propto p_i ^{\\mu_x  \\kappa_x} (1-p_i) ^{(1-\\mu_x)\\kappa_x} q^x (1-q)^{1-x}\n",
    "$\n",
    "\n",
    "On en déduit que $z_i \\sim B(q_i)$ avec $q_i = p_i^{\\mu_1\\kappa_1 - \\mu_0 \\kappa_0} (1-p_i)^{(1-\\mu_1)\\kappa_1 - (1-\\mu_0)\\kappa_0} \\frac{q}{1-q}$"
   ]
  },
  {
   "cell_type": "code",
   "execution_count": 86,
   "metadata": {},
   "outputs": [],
   "source": [
    "def Step_zi_mix(i, vect_p, mu, kappa, q) :\n",
    "    \n",
    "    if np.abs(mu[1]*kappa[1]-mu[0]*kappa[0]) < 10**8 or np.abs((1-vect_p[i])**((1-mu[1])*kappa[1]-(1-mu[0])*kappa[0])) < 10**8 :\n",
    "        qi = q\n",
    "    else :\n",
    "        qi = ( vect_p[i]**(mu[1]*kappa[1]-mu[0]*kappa[0]) ) * ( (1-vect_p[i])**((1-mu[1])*kappa[1]-(1-mu[0])*kappa[0]) )\n",
    "        \n",
    "    return int(np.random.random()<qi)"
   ]
  },
  {
   "cell_type": "markdown",
   "metadata": {},
   "source": [
    "### Simulation"
   ]
  },
  {
   "cell_type": "code",
   "execution_count": 87,
   "metadata": {},
   "outputs": [],
   "source": [
    "def Metropolis_Gibbs_mix(mu, kappa, vect_z, q) :\n",
    "    ## ici mu et kappa sont des couples contenant les valeurs 0 et 1 des paramètres\n",
    "    \n",
    "    vect_p = np.zeros(N_data)\n",
    "    vect_z_new = vect_z\n",
    "    \n",
    "    for i in range(N_data) :\n",
    "        vect_p[i] = Step_pi_mix(i,vect_z,mu, kappa)\n",
    "        vect_z_new[i] = Step_zi_mix(i, vect_p, mu, kappa, q)\n",
    "    \n",
    "    mu_new = Metropolis_step_mu_mix(vect_p, vect_z, mu, kappa)\n",
    "    kappa_new = Metropolis_step_kappa_mix(vect_p, vect_z, mu, kappa)\n",
    "    \n",
    "    return (vect_p,vect_z_new,mu_new,kappa_new)"
   ]
  },
  {
   "cell_type": "code",
   "execution_count": 88,
   "metadata": {},
   "outputs": [],
   "source": [
    "def simulation_mix(n_pts, laps, mu = [0.5, 1], kappa = [0.1,0.5], q=0.5) :\n",
    "\n",
    "    liste_p = []\n",
    "    liste_z = []\n",
    "    liste_mu = []\n",
    "    liste_kappa = []\n",
    "    \n",
    "    sim_mu = mu\n",
    "    sim_kappa = kappa\n",
    "    sim_z = [int(x) for x in np.random.rand(N_data)<q]\n",
    "\n",
    "    compte = 0\n",
    "\n",
    "    for i in range(n_pts*laps) :\n",
    "    \n",
    "        sim_p, sim_z, sim_mu, sim_kappa = Metropolis_Gibbs_mix(sim_mu, sim_kappa, sim_z, q)\n",
    "    \n",
    "        if compte%laps == 0 :\n",
    "            liste_p.append(sim_p)\n",
    "            liste_z.append(sim_z)\n",
    "            liste_mu.append(sim_mu)\n",
    "            liste_kappa.append(sim_kappa)\n",
    "        compte+=1\n",
    "    \n",
    "    return (np.array(liste_p), np.array(liste_mu), np.array(liste_kappa))"
   ]
  },
  {
   "cell_type": "code",
   "execution_count": 89,
   "metadata": {},
   "outputs": [],
   "source": [
    "def estimation_mix(n_pts, laps, mu=[0.5, 1], kappa = [0.1, 0.5], q=0.5) :\n",
    "    arr_p, arr_mu, arr_kappa = simulation_mix(n_pts, laps, mu, kappa, q)\n",
    "    \n",
    "    P = np.zeros(N_data)\n",
    "    mu = 0\n",
    "    kappa = 0\n",
    "    \n",
    "    for i in range(n_pts) :\n",
    "        for j in range(N_data) :\n",
    "            P[j] += arr_p[i][j]/n_pts\n",
    "        mu += arr_mu[i]/n_pts\n",
    "        kappa += arr_kappa[i]/n_pts\n",
    "    \n",
    "    return (P,mu,kappa)"
   ]
  },
  {
   "cell_type": "code",
   "execution_count": 99,
   "metadata": {},
   "outputs": [],
   "source": [
    "n_pts = 100\n",
    "laps = 1"
   ]
  },
  {
   "cell_type": "code",
   "execution_count": 100,
   "metadata": {},
   "outputs": [],
   "source": [
    "arr_p, arr_mu, arr_kappa = simulation_mix(n_pts, laps)"
   ]
  },
  {
   "cell_type": "code",
   "execution_count": 101,
   "metadata": {},
   "outputs": [
    {
     "data": {
      "text/plain": [
       "Text(0.5, 1.0, 'simultation de p59 avec le modèle 3')"
      ]
     },
     "execution_count": 101,
     "metadata": {},
     "output_type": "execute_result"
    },
    {
     "data": {
      "image/png": "[encoded data removed]",
      "text/plain": [
       "<Figure size 432x288 with 1 Axes>"
      ]
     },
     "metadata": {
      "needs_background": "light"
     },
     "output_type": "display_data"
    }
   ],
   "source": [
    "# trace de pj\n",
    "j = 59\n",
    "\n",
    "plt.plot(arr_p[:,[j]], color = 'black', linewidth=1, label='simulation')\n",
    "plt.plot([np.mean(arr_p[:,[j]])]*int(n_pts),'b-', linewidth=2, label = 'estimation')\n",
    "plt.plot([data[j,0]/data[j,1]]*int(n_pts),'r--', linewidth=2, label = 'r/n')\n",
    "plt.legend()\n",
    "plt.title(\"simultation de p\"+str(j) + \" avec le modèle 3\")"
   ]
  },
  {
   "cell_type": "code",
   "execution_count": 102,
   "metadata": {},
   "outputs": [
    {
     "data": {
      "text/plain": [
       "(array([  0.,   0.,   0.,   0., 100.,   0.,   0.,   0.,   0.,   0.]),\n",
       " array([-4.99608021e-01, -3.99608021e-01, -2.99608021e-01, -1.99608021e-01,\n",
       "        -9.96080213e-02,  3.91978658e-04,  1.00391979e-01,  2.00391979e-01,\n",
       "         3.00391979e-01,  4.00391979e-01,  5.00391979e-01]),\n",
       " <a list of 10 Patch objects>)"
      ]
     },
     "execution_count": 102,
     "metadata": {},
     "output_type": "execute_result"
    },
    {
     "data": {
      "image/png": "[encoded data removed]",
      "text/plain": [
       "<Figure size 432x288 with 1 Axes>"
      ]
     },
     "metadata": {
      "needs_background": "light"
     },
     "output_type": "display_data"
    }
   ],
   "source": [
    "plt.hist(arr_kappa[:,[0]])"
   ]
  },
  {
   "cell_type": "code",
   "execution_count": null,
   "metadata": {},
   "outputs": [],
   "source": []
  }
 ],
 "metadata": {
  "kernelspec": {
   "display_name": "Python 3",
   "language": "python",
   "name": "python3"
  },
  "language_info": {
   "codemirror_mode": {
    "name": "ipython",
    "version": 3
   },
   "file_extension": ".py",
   "mimetype": "text/x-python",
   "name": "python",
   "nbconvert_exporter": "python",
   "pygments_lexer": "ipython3",
   "version": "3.8.3"
  }
 },
 "nbformat": 4,
 "nbformat_minor": 4
}
